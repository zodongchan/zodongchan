{
  "cells": [
    {
      "cell_type": "markdown",
      "metadata": {
        "id": "view-in-github",
        "colab_type": "text"
      },
      "source": [
        "<a href=\"https://colab.research.google.com/github/zodongchan/zodongchan/blob/main/1%E1%84%8B%E1%85%B5%E1%86%AF%E1%84%8E%E1%85%A1%E1%84%80%E1%85%AA%E1%84%8C%E1%85%A6.ipynb\" target=\"_parent\"><img src=\"https://colab.research.google.com/assets/colab-badge.svg\" alt=\"Open In Colab\"/></a>"
      ]
    },
    {
      "cell_type": "markdown",
      "metadata": {
        "id": "WXEwMsfUct7U"
      },
      "source": [
        "안녕하세요.<br><br>\n",
        "수강생 여러분~! Chapter04 수업은 잘 들으셨나요?\n",
        "\n",
        "Chapter04의 수업 내용을 바탕으로 아래 문제를 풀어주시면 됩니다.\n",
        "\n",
        "<br>\n",
        "\n",
        "[**답변 입력 방법**]\n",
        "\n",
        "문제 아래에 있는 코드 입력창에 정답코드를 작성하신 후  __▷ 버튼을 클릭해 코드를 실행__ 해보세요<br>\n",
        "<br>"
      ]
    },
    {
      "cell_type": "markdown",
      "metadata": {
        "id": "qoyC9wF-3hvs"
      },
      "source": [
        "-----"
      ]
    },
    {
      "cell_type": "markdown",
      "metadata": {
        "id": "lpiOEoRyDBiH"
      },
      "source": [
        "## 도전! 신비의 섬 탐험\n",
        "\n",
        "![image.png](https://media.cnn.com/api/v1/images/stellar/prod/180219103122-zanzibar-and-its-islands-mnemba-a-view-from-the-sky-mnemba-island-lodge.jpg?q=w_1600,h_900,x_0,y_0,c_fill/h_447)\n",
        "\n",
        "### [배경 이야기]\n",
        "\n",
        "탐험가인 당신은 신비의 섬에 도착했습니다.\n",
        "\n",
        "\n",
        "이 섬에는 숨겨진 보물이 있으며, 이를 찾기 위해 여러 도전 과제를 해결해야 합니다.\n",
        "\n",
        "\n",
        "섬에는 알 수 없는 외계인이 당신을 쫓아오고 있어 모든 도전을 신속하게 해결하고 섬을 탈출해야 합니다.\n",
        "\n",
        "=================================================================================================================================\n",
        "\n",
        "### [문제 풀이 팁]\n",
        "너무 어렵게 생각하지 마세요!\n",
        "지금은 배우는 중이니까 틀려도 괜찮아요.\n",
        "\n",
        "<br>\n",
        "\n",
        "문제를 풀 때는 아래 순서대로 천천히 해보세요 !\n",
        "\n",
        "1. 문제를 __잘__ 읽어주세요!\n",
        "    - 어떤 결과값을 요구하는지, 어떤 데이터를 주고 있는지 파악합니다.\n",
        "2.  어떻게 구할 수 있을지 __'생각'__ 해봅니다!\n",
        "    - 결과값을 구하기 위한 로직을 생각해봅니다.\n",
        "3. 파이썬 문법에 맞춰서 __'하나씩'__ 코드로 옮겨주세요!\n",
        "    - 물론 틀려도 괜찮습니다. 기억안나도 괜찮아요! 그래도 시도해보세요!\n",
        "\n",
        "<br>\n",
        "\n",
        "머릿속으로만 고민하지 말고, 직접 종이에 적거나 손으로 그려보는 것도 큰 도움이 됩니다! <br>\n",
        "화이팅😃  \n",
        "\n",
        "<br>\n",
        "\n",
        "=================================================================================================================================\n",
        "\n",
        "### [(심화 ver.) 예습을 해보고 싶다면?]\n",
        "\n",
        "신비의 섬을 나가기 위해 필요한 비밀번호를 **변수**에 담아 놓는다면 번거로운 계산 과정이 줄어듭니다.\n",
        "\n",
        "<br>\n",
        "\n",
        "- 🐣 : 변수가 뭔지 잘 모르겠어요 !!!!!!!!!!!!<br>\n",
        "💁 : __Chapter02 강의 예습__ 혹은 __검색__을 통해 간단한 개념을 파악할 수 있습니다!\n",
        "\n",
        "\n",
        "<br>\n",
        "\n",
        "\n",
        "##### __<신비의 섬 탐험> 문제는 성장을 위해 난이도가 살짝 높게 작성되었기 때문에 어려울 수 있지만 도전해보시길 바랍니다 :)__\n",
        "\n",
        "\n",
        "\n",
        "<br>\n",
        "<hr/>\n"
      ]
    },
    {
      "cell_type": "markdown",
      "metadata": {
        "id": "r-0w1gEyDBiI"
      },
      "source": [
        "__[문제 1: 입구의 수수께끼]__\n",
        "\n",
        "<br>\n",
        "\n",
        "섬의 입구에 도착한 당신은 좋지 않은 느낌을 받습니다. 무언가 비릿한 냄새가 여기저기에서 납니다.\n",
        "\n",
        "아마도 나보다 앞서 도착한 도전자들의 시체가 썩는 냄새인 것 같습니다.\n",
        "\n",
        "지금...누군가 당신을 지켜보고 있습니다. 한시라도 빠르게 이 섬을 탈출해야 합니다.\n",
        "\n",
        "우선 이 거대한 돌문을 열고 섬의 더 깊숙한 곳으로 들어가야 합니다. 돌문을 열려면 두 개의 열쇠 숫자를 더해야 합니다.\n",
        "\n",
        "열쇠 숫자는 14와 29입니다.\n",
        "\n",
        "__돌문을 여는 숫자__ 를 구해주세요."
      ]
    },
    {
      "cell_type": "code",
      "execution_count": null,
      "metadata": {
        "id": "2xkbNreXDBiI",
        "colab": {
          "base_uri": "https://localhost:8080/"
        },
        "outputId": "6a48630e-9b76-45bd-df12-8049e539b2db"
      },
      "outputs": [
        {
          "output_type": "stream",
          "name": "stdout",
          "text": [
            "43\n"
          ]
        }
      ],
      "source": [
        "비밀번호 = 14 + 29\n",
        "print(비밀번호)"
      ]
    },
    {
      "cell_type": "markdown",
      "metadata": {
        "id": "4Qd9gvmmDBiI"
      },
      "source": [
        "<hr/>\n",
        "<br>\n",
        "\n",
        "__[문제 2: 첫 번째 강의 다리]__\n",
        "\n",
        "<br>\n",
        "\n",
        "\n",
        "\n",
        "돌문을 지나자 거친 강물이 흐르는 강이 나타났습니다.\n",
        "\n",
        "아주 낡은 나무 다리가 힘겹게 메달려 있습니다.\n",
        "\n",
        "당장이라도 무너질 것 같지만 이 다리 말고는 반대편으로 갈 수 있는 길이 보이지 않습니다.\n",
        "\n",
        "무언가 불길한 기운이 계속 가까워지는 것만 같아 당신 빠르게 다리를 건너야 합니다.\n",
        "\n",
        "다리는 50kg 이상 버티지 못하기 때문에 68kg인 당신은 무게를 줄여야 합니다.\n",
        "\n",
        "방금 전 돌문을 통과하면서 얻은 마법 룬을 이용해 무게를 줄일 수 있습니다.\n",
        "\n",
        "다리를 건너기 위해 줄여야 할 __최소 무게__ 를 구해주세요. (이상, 이하, 초과, 미만은 신경쓰지 않습니다!)\n",
        "\n",
        "\n",
        "<br>"
      ]
    },
    {
      "cell_type": "code",
      "execution_count": null,
      "metadata": {
        "id": "JS7AwmqaDBiJ",
        "colab": {
          "base_uri": "https://localhost:8080/"
        },
        "outputId": "4151a628-644e-40d6-dd87-baa81b90797d"
      },
      "outputs": [
        {
          "output_type": "stream",
          "name": "stdout",
          "text": [
            "18\n"
          ]
        }
      ],
      "source": [
        "줄일몸무게 = 68 - 50\n",
        "print(줄일몸무게)"
      ]
    },
    {
      "cell_type": "markdown",
      "metadata": {
        "id": "STDMe6oXDBiJ"
      },
      "source": [
        "\n",
        "<hr/>\n",
        "<br>\n",
        "\n",
        "__[문제 3: 숲 속의 고목나무]__\n",
        "\n",
        "<br>\n",
        "\n",
        "\n",
        "\n",
        "첫 번째 강을 건너자 으스스한 숲 속에 들어섰습니다.\n",
        "\n",
        "귀를 찢는 울음소리가 숲 속에 울려 퍼집니다. 당신은 바로 오래된 고목나무 숲으로 몸을 숨깁니다.\n",
        "\n",
        "숲 깊이 들어가자 고목 나무에 걸린 현판이 보입니다.\n",
        "\n",
        "\"나무의 나이를 구하고 연못으로 가라\"\n",
        "\n",
        "나무의 나이를 구하기 위해서는 4년마다 한 번의 나이테가 생깁니다.\n",
        "\n",
        "돌문을 열때 사용한 숫자를 나이테 개수로 사용하여 __나무의 나이__ 를 구하세요.\n",
        "\n"
      ]
    },
    {
      "cell_type": "markdown",
      "metadata": {
        "id": "z8n4lo2lDBiJ"
      },
      "source": [
        "__Tips__\n",
        "- 문제 1의 결과값을 참고하세요 !"
      ]
    },
    {
      "cell_type": "code",
      "execution_count": null,
      "metadata": {
        "id": "9oLDLL-0DBiJ",
        "colab": {
          "base_uri": "https://localhost:8080/"
        },
        "outputId": "197d9bf0-f36c-4e4f-fba0-d66f540bccc7"
      },
      "outputs": [
        {
          "output_type": "stream",
          "name": "stdout",
          "text": [
            "172\n"
          ]
        }
      ],
      "source": [
        "나무나이 = 비밀번호 * 4\n",
        "print(나무나이)"
      ]
    },
    {
      "cell_type": "markdown",
      "metadata": {
        "id": "485leds3DBiJ"
      },
      "source": [
        "<hr/><br>\n",
        "\n",
        "__[문제 4: 숲 속의 마법 연못]__\n",
        "\n",
        "<br>\n",
        "\n",
        "\n",
        "\n",
        "고목나무를 지나자 신비로운 마법 연못이 나타났습니다.\n",
        "\n",
        "연못 속에는 불가사의한 에너지가 흐르고 있습니다.\n",
        "\n",
        "이 에너지를 이용하면 보물을 찾는 데 필요한 단서를 얻을 수 있습니다.\n",
        "\n",
        "연못의 깊이를 측정하려면 나무의 나이를 이용해야 합니다.\n",
        "\n",
        "나무의 나이가 172살이고, 연못의 깊이는 나무 나이의 1/4입니다.\n",
        "\n",
        "__연못의 깊이__ 를 구하세요.\n",
        "\n",
        "<br>\n",
        "\n"
      ]
    },
    {
      "cell_type": "code",
      "execution_count": null,
      "metadata": {
        "id": "N366X8bzDBiK",
        "colab": {
          "base_uri": "https://localhost:8080/"
        },
        "outputId": "9020a11c-cd46-47eb-fb0b-3e447ac10c4c"
      },
      "outputs": [
        {
          "output_type": "stream",
          "name": "stdout",
          "text": [
            "43.0\n"
          ]
        }
      ],
      "source": [
        "연못_깊이 = tree / 4\n",
        "print(연못_깊이)"
      ]
    },
    {
      "cell_type": "markdown",
      "metadata": {
        "id": "omjfLu_HDBiK"
      },
      "source": [
        "<hr/><br>\n",
        "\n",
        "__[문제 5: 사원의 입구]__\n",
        "\n",
        "<br>\n",
        "\n",
        "\n",
        "\n",
        "연못을 지나니 고대 사원이 나타났습니다. 사원의 입구에는 비밀번호를 입력해야 합니다.\n",
        "\n",
        "비밀번호는 3자리 수로, 첫 번째 자리는 5, 두 번째 자리는 돌문을 여는 숫자의 십의 자리 수, 세 번째 자리는 돌문을 여는 숫자의 일의 자리 수의 3분의 1입니다.\n",
        "\n",
        "__비밀번호__ 를 구하세요.\n",
        "\n",
        "<br>"
      ]
    },
    {
      "cell_type": "code",
      "source": [
        "\n",
        "첫번째_자리 = 5\n",
        "두번째_자리 = 비밀번호 // 10  # 십의 자리 수\n",
        "세번째_자리 = (비밀번호 % 10) // 3 # 일의 자리 수의 3분의 1\n",
        "\n",
        "입구_비밀번호 = 첫번째_자리, 두번째_자리, 세번째_자리\n",
        "print(입구_비밀번호)"
      ],
      "metadata": {
        "colab": {
          "base_uri": "https://localhost:8080/"
        },
        "id": "x4XCH8hZKTrQ",
        "outputId": "11be9583-a671-4ba9-8c8b-302ae11f5ea1"
      },
      "execution_count": null,
      "outputs": [
        {
          "output_type": "stream",
          "name": "stdout",
          "text": [
            "(5, 4, 1)\n"
          ]
        }
      ]
    },
    {
      "cell_type": "markdown",
      "metadata": {
        "id": "q0RflKctDBiK"
      },
      "source": [
        "<hr/><br>\n",
        "\n",
        "__[문제 6: 비밀의 동굴]__\n",
        "\n",
        "<br>\n",
        "\n",
        "사원 내부에 비밀의 동굴로 이어지는 통로가 있습니다.\n",
        "\n",
        "무언가 쿵 하고 넘어지는 소리가 들렸습니다. 신경을 곤두세우는 까마귀 소리가 여기저기서 울려 퍼집니다.\n",
        "\n",
        "주변을 멤돌던 존재가 사원에 진입한것 같습니다.\n",
        "\n",
        "어서 동굴을 벗어나야할 것 같습니다.\n",
        "\n",
        "동굴을 열려면 암호를 풀어야 합니다. 암호는 돌문을 열때 사용한 숫자의 제곱근과 같습니다.\n",
        "\n",
        "__암호__ 를 구하세요.\n",
        "\n",
        "<br>"
      ]
    },
    {
      "cell_type": "code",
      "execution_count": null,
      "metadata": {
        "id": "BhiYPCVhDBiK",
        "colab": {
          "base_uri": "https://localhost:8080/"
        },
        "outputId": "45f10bf0-e59a-484c-c5ff-f5400ab47234"
      },
      "outputs": [
        {
          "output_type": "stream",
          "name": "stdout",
          "text": [
            "6\n"
          ]
        }
      ],
      "source": [
        "동굴_비밀번호 = int(비밀번호 ** 0.5)\n",
        "print(동굴_비밀번호)"
      ]
    },
    {
      "cell_type": "markdown",
      "metadata": {
        "id": "flBC9EM8DBiK"
      },
      "source": [
        "<hr/><br>\n",
        "\n",
        "__[문제 7: 해변의 파도]__\n",
        "\n",
        "<br>\n",
        "\n",
        "\n",
        "비밀의 동굴을 지나 해변에 도착했습니다.\n",
        "\n",
        "동굴에서 빠져나오진 못한 존재는 엄청난 촉수를 가진 거대 외계인으로 보입니다. 외계인은 당신을 보며 군침을 흘리고 있습니다. 빠르게 이곳을 탈출해 섬의 반대편으로 도망가야 합니다.\n",
        "\n",
        "배를 타고 빠르게 벗어나기 위해 우선 파도를 파악해야합니다.\n",
        "\n",
        "파도가 일정한 간격으로 오고 있음을 발견했습니다.\n",
        "\n",
        "5분 동안 20번의 파도가 왔다면, 파도 한 번이 오는 데 걸리는 __평균 시간__ 을 구하세요.\n",
        "\n",
        "<br>"
      ]
    },
    {
      "cell_type": "code",
      "execution_count": null,
      "metadata": {
        "id": "H9jhddElDBiK",
        "colab": {
          "base_uri": "https://localhost:8080/"
        },
        "outputId": "6b344512-996e-4f96-d797-dab925714a45"
      },
      "outputs": [
        {
          "output_type": "stream",
          "name": "stdout",
          "text": [
            "15.0 초당 1번\n"
          ]
        }
      ],
      "source": [
        "초당파도 = 5 * 60\n",
        "파도 = 초당파도 / 20\n",
        "\n",
        "print(f'{파도} 초당 1번')"
      ]
    },
    {
      "cell_type": "markdown",
      "metadata": {
        "id": "fdNJuPPgDBiK"
      },
      "source": [
        "<hr/><br>\n",
        "\n",
        "__[문제 8: 폭포의 높이]__\n",
        "\n",
        "<br>\n",
        "\n",
        "섬의 반대편의 무사히 도착했습니다.\n",
        "\n",
        "거대한 폭포가 당신의 길을 가로 막고 있습니다.\n",
        "\n",
        "자세히 보니 폭포 위쪽에 반짝이는 무언가가 있습니다. 당신이 찾던 보물일 수 있습니다.\n",
        "\n",
        "마법 룬을 이용해 폭포의 높이를 구하고 폭포의 위로 올라갑니다.\n",
        "\n",
        "물방울이 떨어져 땅에 닿는 데 걸리는 시간은 2초입니다. 중력가속도는 9.8m/s²입니다.\n",
        "\n",
        "돌문을 열때 사용한 숫자를 이용해 __폭포의 높이__ 를 구하세요. (단, 공기저항은 무시합니다.)\n",
        "\n",
        "<br>\n",
        "\n",
        "\n",
        "__Tips__\n",
        "- 높이 = 0.5 * 중력가속도 * (시간 + 돌문의 숫자의 마지막 자리 수)²\n",
        "\n",
        "<br>"
      ]
    },
    {
      "cell_type": "code",
      "execution_count": null,
      "metadata": {
        "id": "tTTIf-TkDBiK",
        "colab": {
          "base_uri": "https://localhost:8080/"
        },
        "outputId": "1420a075-658d-435d-f3b2-bb19c37a0b31"
      },
      "outputs": [
        {
          "output_type": "stream",
          "name": "stdout",
          "text": [
            "122.50000000000001\n"
          ]
        }
      ],
      "source": [
        "높이 = 0.5 * 9.8*(2 + int(비밀번호)%10)**2\n",
        "print(높이)"
      ]
    },
    {
      "cell_type": "markdown",
      "metadata": {
        "id": "pY90E2DRDBiK"
      },
      "source": [
        "<hr/>\n",
        "<br>\n",
        "\n",
        "__[최종 문제: 탈출 비밀번호]__\n",
        "\n",
        "<br>\n",
        "\n",
        "보물을 찾았습니다.\n",
        "\n",
        "\n",
        "\"쿠우에에이이이이이이..\"\n",
        "\n",
        "\n",
        "에일리언이 당신을 쫓아왔습니다. 당신은 곧 에일리언의 좋은 영양소가 될 것 같습니다.\n",
        "\n",
        "당신은 지금 정신을 차리고 앞에 보이는 에일리언의 우주선을 뻇어 섬을 탈출해야합니다.\n",
        "\n",
        "우주선에 타기 위해서는 비밀번호를 입력해야 합니다.\n",
        "\n",
        "비밀번호는 현재 좌표의 첫 번째 숫자와 세 번째 숫자의 차와 같습니다.\n",
        "\n",
        "__비밀번호__ 를 알아내세요!\n",
        "\n",
        "<br>\n",
        "\n",
        "현재 좌표 : 32, 43, 128\n",
        "\n",
        "<br>"
      ]
    },
    {
      "cell_type": "code",
      "execution_count": null,
      "metadata": {
        "id": "M_vRpflBDBiL",
        "colab": {
          "base_uri": "https://localhost:8080/"
        },
        "outputId": "2d1bc6e3-a9b5-47bc-8b3b-8fd21af82d8e"
      },
      "outputs": [
        {
          "output_type": "stream",
          "name": "stdout",
          "text": [
            "96\n"
          ]
        }
      ],
      "source": [
        "현재_좌표 = 32, 43, 128\n",
        "우주선_비밀번호 = 현재_좌표[2] - 현재_좌표[0]\n",
        "print(우주선_비밀번호)"
      ]
    },
    {
      "cell_type": "markdown",
      "metadata": {
        "id": "iLH_TV7nDBiL"
      },
      "source": [
        "<hr/><br>\n",
        "\n",
        "당신은 생존했습니다 !!!!!!!!!!\n",
        "\n",
        "생존한 당신은 보물 상자를 열어봅니다.\n",
        "\n",
        "\n",
        "\n",
        "![image.png](https://t1.daumcdn.net/brunch/service/user/f2nO/image/5kAK9UfcMgaAGLdejuEuAoS0Hos.jpg)\n",
        "\n",
        "-----\n",
        "__[편지]__ <br>\n",
        ">  <br> 오늘도 고생하셨습니다.<br><br> 내일도 과제 있습니다. 여러분 : )<br><br>-파머-<br>\n",
        "\n",
        "\n",
        "---"
      ]
    },
    {
      "cell_type": "markdown",
      "metadata": {
        "id": "ujVwVYoiDBiL"
      },
      "source": []
    }
  ],
  "metadata": {
    "colab": {
      "provenance": [],
      "include_colab_link": true
    },
    "kernelspec": {
      "display_name": "Python 3",
      "name": "python3"
    },
    "language_info": {
      "codemirror_mode": {
        "name": "ipython",
        "version": 3
      },
      "file_extension": ".py",
      "mimetype": "text/x-python",
      "name": "python",
      "nbconvert_exporter": "python",
      "pygments_lexer": "ipython3",
      "version": "3.12.3"
    }
  },
  "nbformat": 4,
  "nbformat_minor": 0
}
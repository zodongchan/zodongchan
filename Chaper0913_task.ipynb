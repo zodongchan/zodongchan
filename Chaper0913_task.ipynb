{
  "cells": [
    {
      "cell_type": "markdown",
      "metadata": {
        "id": "view-in-github",
        "colab_type": "text"
      },
      "source": [
        "<a href=\"https://colab.research.google.com/github/zodongchan/zodongchan/blob/main/Chaper0913_task.ipynb\" target=\"_parent\"><img src=\"https://colab.research.google.com/assets/colab-badge.svg\" alt=\"Open In Colab\"/></a>"
      ]
    },
    {
      "cell_type": "markdown",
      "metadata": {
        "id": "fD4Qab2qYgOm"
      },
      "source": [
        "안녕하세요. 수강생 여러분~! Chapter09 ~ 13 수업은 잘 들으셨나요?\n",
        "\n",
        "Chapter09 ~ 13의 수업 내용을 바탕으로 아래 문제를 풀어주시면 됩니다.\n",
        "\n",
        "\n",
        "<br>\n",
        "\n",
        "\n",
        "[**답변 입력 방법**]\n",
        "\n",
        "문제 아래에 있는 코드 입력창에 정답코드를 작성하신 후  __▷ 버튼을 클릭해 코드를 실행__ 해보세요<br>"
      ]
    },
    {
      "cell_type": "markdown",
      "metadata": {
        "id": "dK3J3N8_olzo"
      },
      "source": [
        "---"
      ]
    },
    {
      "cell_type": "markdown",
      "metadata": {
        "id": "2ekBk3I9olzo"
      },
      "source": [
        "__[문제0]__\n",
        "\n",
        "\n",
        "오즈 코딩 스쿨 백엔드 8기 과정에 참여한 수강생 중 3명의 수강생이 자율적으로 스터디 그룹을 결성했습니다.\n",
        "\n",
        "스터디 그룹 내에는 한 주간 배운 내용으로 매주 쪽지 시험을 보는 룰이 있습니다. 점수는 채점자 마음입니다.\n",
        "\n",
        "쪽지 시험의 점수를 직접 입력받고, 점수의 합을 출력해주세요!\n",
        "\n",
        "\n",
        "<br>\n",
        "\n"
      ]
    },
    {
      "cell_type": "code",
      "execution_count": 5,
      "metadata": {
        "colab": {
          "base_uri": "https://localhost:8080/"
        },
        "id": "AFBr3oZfolzo",
        "outputId": "3c5015ad-8e72-4e47-8f5d-2443d0d29921"
      },
      "outputs": [
        {
          "output_type": "stream",
          "name": "stdout",
          "text": [
            "230\n"
          ]
        }
      ],
      "source": [
        "# 8기 수강생 3명의 점수의 합을 구하시오\n",
        "# 8기면 상훈매니저님?\n",
        "\n",
        "a = 60\n",
        "b = 70\n",
        "c = 100\n",
        "\n",
        "print(a + b + c)"
      ]
    },
    {
      "cell_type": "markdown",
      "metadata": {
        "id": "swqdcIl8Yn-c"
      },
      "source": [
        "__[문제1]<br>__\n",
        "\n",
        "movie_rank 리스트에는 아래와 같이 네 개의 영화 제목이 바인딩되어 있다.\n",
        "\n",
        "\"비밀\"을 \"나폴레옹\"과 \"괴물\" 사이에 추가해주세요\n",
        "\n",
        "<br>\n",
        "\n",
        "```\n",
        "movie = ['서울의 봄', '나폴레옹', '괴물', '베트맨']\n",
        "```\n",
        "\n"
      ]
    },
    {
      "cell_type": "code",
      "execution_count": 16,
      "metadata": {
        "id": "vjUhNFdBYo2n",
        "colab": {
          "base_uri": "https://localhost:8080/"
        },
        "outputId": "c606381f-9350-4aec-a09b-1681717b08bd"
      },
      "outputs": [
        {
          "output_type": "stream",
          "name": "stdout",
          "text": [
            "['서울의 봄', '나폴레옹', '비밀', '비밀']\n"
          ]
        }
      ],
      "source": [
        "movie.insert(2,\"비밀\")\n",
        "print(movie)"
      ]
    },
    {
      "cell_type": "markdown",
      "metadata": {
        "id": "lEUNKE_colzo"
      },
      "source": [
        "---"
      ]
    },
    {
      "cell_type": "markdown",
      "metadata": {
        "id": "KZBNuM5MYpZR"
      },
      "source": [
        "__[문제1-2]<br>__\n",
        "\n",
        "movie_rank 리스트에서 '베트맨'를 삭제해주세요\n",
        "\n",
        "<br>\n",
        "\n",
        "```\n",
        "movie = ['서울의 봄', '나폴레옹', '비밀', '괴물', '베트맨']\n",
        "```\n",
        "\n"
      ]
    },
    {
      "cell_type": "code",
      "execution_count": 15,
      "metadata": {
        "id": "cPezrT7cYreh",
        "colab": {
          "base_uri": "https://localhost:8080/"
        },
        "outputId": "3c731a44-d359-4e4c-d646-c8bb5e83624c"
      },
      "outputs": [
        {
          "output_type": "stream",
          "name": "stdout",
          "text": [
            "['서울의 봄', '나폴레옹', '비밀']\n"
          ]
        }
      ],
      "source": [
        "del movie[-1]\n",
        "print(movie)"
      ]
    },
    {
      "cell_type": "markdown",
      "metadata": {
        "id": "i8EJYPY0YsAe"
      },
      "source": [
        "__[문제2]<br>__\n",
        "\n",
        "[언어1]과 [언어2] 리스트가 있을 때 언어1과 언어2의 원소를 모두 갖고 있는 [언어모음]이라는 list를 만들어주세요\n",
        "\n",
        "```lang1 = [\"C\", \"C++\", \"JAVA\"]```<br>\n",
        "```lang2 = [\"Python\", \"Go\", \"C#\"]```  \n",
        "\n",
        "<br>\n",
        "실행 예)\n",
        "언어들\n",
        "['C', 'C++', 'JAVA', 'Python', 'Go', 'C#']"
      ]
    },
    {
      "cell_type": "code",
      "execution_count": 25,
      "metadata": {
        "colab": {
          "base_uri": "https://localhost:8080/"
        },
        "id": "eVJXqiU-olzp",
        "outputId": "6d9ffdb5-8117-41a7-9dbe-b38feadce248"
      },
      "outputs": [
        {
          "output_type": "stream",
          "name": "stdout",
          "text": [
            "['C', 'C++', 'JAVA', 'Python', 'Go', 'C#']\n"
          ]
        }
      ],
      "source": [
        "lang1 = [\"C\", \"C++\", \"JAVA\"]\n",
        "lang2 = [\"Python\", \"Go\", \"C#\"]\n",
        "\n",
        "\n",
        "언어모음 = (lang1 + lang2)\n",
        "print(언어모음)"
      ]
    },
    {
      "cell_type": "markdown",
      "metadata": {
        "id": "Pyt5NENTolzp"
      },
      "source": [
        "---"
      ]
    },
    {
      "cell_type": "markdown",
      "metadata": {
        "id": "5VFysaYRwT69"
      },
      "source": [
        "__[문제3]<br>__\n",
        "\n",
        "다음 리스트에서 최댓값과 최솟값, 그리고 평균을 출력해주세요.\n",
        "<br>\n",
        "\n",
        "```\n",
        "nums = [1, 2, 3, 4, 5, 6, 7, 9, 10]\n",
        "```\n",
        "\n"
      ]
    },
    {
      "cell_type": "code",
      "execution_count": 32,
      "metadata": {
        "colab": {
          "base_uri": "https://localhost:8080/"
        },
        "id": "84zonXq2olzp",
        "outputId": "e29d8429-872f-405b-e415-9f52b3a31329"
      },
      "outputs": [
        {
          "output_type": "stream",
          "name": "stdout",
          "text": [
            "10\n",
            "1\n",
            "5.222222222222222\n"
          ]
        }
      ],
      "source": [
        "nums = [1, 2, 3, 4, 5, 6, 7, 9, 10]\n",
        "max(nums)\n",
        "min(nums)\n",
        "sum(nums)\n",
        "len(nums)\n",
        "print(max(nums))\n",
        "print(min(nums))\n",
        "print(sum(nums)/len(nums))"
      ]
    },
    {
      "cell_type": "markdown",
      "metadata": {
        "id": "2w6FmBUSolzp"
      },
      "source": [
        "---"
      ]
    },
    {
      "cell_type": "markdown",
      "metadata": {
        "id": "5_IA50IQE2AM"
      },
      "source": [
        "__[문제4]__\n",
        "\n",
        "다음 리스트에 저장된 데이터의 개수를 화면에 구해주세요\n",
        "\n",
        "```cook = [\"피자\", \"김밥\", \"만두\", \"양념치킨\", \"족발\", \"피자\", \"김치만두\", \"쫄면\"]```"
      ]
    },
    {
      "cell_type": "code",
      "execution_count": 33,
      "metadata": {
        "id": "iRDvWnF8wTXa",
        "colab": {
          "base_uri": "https://localhost:8080/"
        },
        "outputId": "180f6d86-ced7-4d9a-e01f-9779502599b2"
      },
      "outputs": [
        {
          "output_type": "stream",
          "name": "stdout",
          "text": [
            "8\n"
          ]
        }
      ],
      "source": [
        "cook = [\"피자\", \"김밥\", \"만두\", \"양념치킨\", \"족발\", \"피자\", \"김치만두\", \"쫄면\"]\n",
        "\n",
        "print(len(cook))"
      ]
    },
    {
      "cell_type": "markdown",
      "metadata": {
        "id": "Alvxamjzolzp"
      },
      "source": [
        "---"
      ]
    },
    {
      "cell_type": "markdown",
      "metadata": {
        "id": "9HdgOgIGolzp"
      },
      "source": [
        "---"
      ]
    },
    {
      "cell_type": "markdown",
      "metadata": {
        "id": "Cp7IpuJBFcq2"
      },
      "source": [
        "__[문제5]__\n",
        "\n",
        "price 변수에는 날짜와 종가 정보가 저장돼 있습니다.\n",
        "날짜 정보를 제외하고 가격 정보만을 출력해주세요\n",
        "\n",
        "```price = ['20180728', 100, 130, 140, 150, 160, 170]```\n",
        "\n",
        "<br>\n",
        "출력 예) [100, 130, 140, 150, 160, 170]"
      ]
    },
    {
      "cell_type": "code",
      "execution_count": 42,
      "metadata": {
        "id": "BpMb0bHPFdKF",
        "colab": {
          "base_uri": "https://localhost:8080/"
        },
        "outputId": "02ad85ba-4a6c-41b7-ffae-2b2e4a4629fe"
      },
      "outputs": [
        {
          "output_type": "stream",
          "name": "stdout",
          "text": [
            "[100, 130, 140, 150, 160, 170]\n"
          ]
        }
      ],
      "source": [
        "price = ['20180728', 100, 130, 140, 150, 160, 170]\n",
        "#날짜 정보를 제외하고 가격정보만 출력하기\n",
        "del price[0]\n",
        "print(price)"
      ]
    },
    {
      "cell_type": "markdown",
      "metadata": {
        "id": "PV4FRtMMolzp"
      },
      "source": [
        "---"
      ]
    },
    {
      "cell_type": "markdown",
      "metadata": {
        "id": "1DwclZivGe72"
      },
      "source": [
        "__[문제6]__\n",
        "\n",
        "<br>\n",
        "다음 딕셔너리를 사용하여 메로나 가격을 출력해주세요\n",
        "\n",
        "```ice = {'메로나': 1000,```<br>\n",
        "&emsp;&emsp;&emsp;&emsp;```'폴로포': 1200,```<br>\n",
        "&emsp;&emsp;&emsp;&emsp;```'빵빠레': 1800,```<br>\n",
        "&emsp;&emsp;&emsp;&emsp;```'죠스바': 1200,```<br>\n",
        "&emsp;&emsp;&emsp;&emsp;```'월드콘': 1500}```<br>\n",
        "\n",
        "<br>\n",
        "출력 예) 메로나 가격: 1000"
      ]
    },
    {
      "cell_type": "code",
      "execution_count": 48,
      "metadata": {
        "id": "jADTPFzOHcKk",
        "colab": {
          "base_uri": "https://localhost:8080/"
        },
        "outputId": "34a99280-b9a1-4ae9-f983-1750f681bcd8"
      },
      "outputs": [
        {
          "output_type": "stream",
          "name": "stdout",
          "text": [
            "메로나의 가격 : 1000\n"
          ]
        }
      ],
      "source": [
        "ice = {'메로나': 1000,'폴로포': 1200,'빵빠레': 1800,'죠스바': 1200,'월드콘': 1500}#메로나 가격은\n",
        "\n",
        "print(\"메로나의 가격 :\", ice['메로나'])"
      ]
    },
    {
      "cell_type": "markdown",
      "metadata": {
        "id": "b_SZESBQolzp"
      },
      "source": [
        "---"
      ]
    },
    {
      "cell_type": "markdown",
      "metadata": {
        "id": "mBs2AaqcJAXN"
      },
      "source": [
        "__[문제6-1]__\n",
        "\n",
        "다음 딕셔너리에서 메로나의 가격을 1300으로 수정해주세요\n",
        "\n",
        "```ice = {'메로나': 1000,```<br>\n",
        "&emsp;&emsp;&emsp;&emsp;```'폴로포': 1200,```<br>\n",
        "&emsp;&emsp;&emsp;&emsp;```'빵빠레': 1800,```<br>\n",
        "&emsp;&emsp;&emsp;&emsp;```'죠스바': 1200,```<br>\n",
        "&emsp;&emsp;&emsp;&emsp;```'월드콘': 1500}```<br>"
      ]
    },
    {
      "cell_type": "code",
      "execution_count": 94,
      "metadata": {
        "id": "C2RyUgoTJKsF",
        "colab": {
          "base_uri": "https://localhost:8080/"
        },
        "outputId": "33dfb931-366f-40d1-d077-059ef68af864"
      },
      "outputs": [
        {
          "output_type": "stream",
          "name": "stdout",
          "text": [
            "{'메로나': 1000, '폴로포': 1200, '빵빠레': 1800, '죠스바': 1200, '월드콘': 1500, '보석바': [650, 10]}\n"
          ]
        }
      ],
      "source": [
        "ice = {'메로나': 1000,'폴로포': 1200,'빵빠레': 1800,'죠스바': 1200,'월드콘': 1500}#메로나1300\n",
        "\n",
        "#ice['메로나'] = 1300\n",
        "#print(ice)\n",
        "ice['보석바']= 650,10\n",
        "print(ice)\n"
      ]
    },
    {
      "cell_type": "markdown",
      "metadata": {
        "id": "8YlqMXgPolzq"
      },
      "source": [
        "---"
      ]
    },
    {
      "cell_type": "markdown",
      "metadata": {
        "id": "_ZdcVEtTJKS1"
      },
      "source": [
        "__[문제7]__\n",
        "\n",
        "아래 순서대로 주어진 수강생 이름과 등급을 하나의 딕셔너리로 만드는 코드를 작성해주세요\n",
        "\n",
        "\n",
        "names : 나이썬, 김자바, 김씨, 박씨샵  \n",
        "grades :   B       B      A      C\n"
      ]
    },
    {
      "cell_type": "code",
      "execution_count": 129,
      "metadata": {
        "id": "7RyqlYwpJOp7",
        "colab": {
          "base_uri": "https://localhost:8080/"
        },
        "outputId": "27f8d98d-c73c-42d5-8e08-9dd5cd4aa923"
      },
      "outputs": [
        {
          "output_type": "stream",
          "name": "stdout",
          "text": [
            "{'나이썬': 'B', '김자바': 'B', '김씨': 'A', '박씨샵': 'C'}\n"
          ]
        }
      ],
      "source": [
        "names = ['나이썬', '김자바', '김씨', '박씨샵']\n",
        "grades = [\"B\", \"B\", \"A\", \"C\"]\n",
        "\n",
        "print(dict(zip(names, grades)))"
      ]
    },
    {
      "cell_type": "markdown",
      "metadata": {
        "id": "M3Hf2jVJolzq"
      },
      "source": [
        "---"
      ]
    },
    {
      "cell_type": "markdown",
      "metadata": {
        "id": "yzi6f2-YKsk4"
      },
      "source": [
        "__[문제8]__\n",
        "\n",
        "아래 ice 딕셔너리에 데이터를 추가 후 출력해주세요\n",
        "\n",
        "ice = {\"메로나\": [300, 20],  \n",
        "              \"비비빅\": [400, 3],  \n",
        "              \"죠스바\": [250, 100]}  \n",
        "\n",
        "\n",
        "추가해야하는 데이터) 이름 : 보석바, 가격:650, 재고:10"
      ]
    },
    {
      "cell_type": "code",
      "execution_count": 97,
      "metadata": {
        "colab": {
          "base_uri": "https://localhost:8080/"
        },
        "id": "qiJHdYMaolzq",
        "outputId": "bf0a250b-4523-4624-c385-ae2d92dd20b4"
      },
      "outputs": [
        {
          "output_type": "stream",
          "name": "stdout",
          "text": [
            "{'메로나': [300, 20], '비비빅': [400, 3], '죠스바': [250, 100], '보석바': [650, 10]}\n"
          ]
        }
      ],
      "source": [
        "ice = {\"메로나\": [300, 20],\n",
        "\"비비빅\": [400, 3],\n",
        "\"죠스바\": [250, 100]}\n",
        "\n",
        "ice['보석바']= [650,10]\n",
        "print(ice)\n"
      ]
    },
    {
      "cell_type": "markdown",
      "metadata": {
        "id": "wF1Qlcvlolzq"
      },
      "source": [
        "---"
      ]
    },
    {
      "cell_type": "markdown",
      "metadata": {
        "id": "RQJC80PBLWGt"
      },
      "source": [
        "__[문제9]__\n",
        "\n",
        "아래 딕셔너리에서 key만 list 형태로 출력해주세요\n",
        "\n",
        "ice = {'메로나': 1000, '폴로포': 1200, '빵빠레': 1800, '죠스바': 1200, '월드콘': 1500}\n"
      ]
    },
    {
      "cell_type": "code",
      "execution_count": 103,
      "metadata": {
        "id": "m5m-a09iLVbO",
        "colab": {
          "base_uri": "https://localhost:8080/"
        },
        "outputId": "bddb8c35-a944-4531-eebc-d9825718b54b"
      },
      "outputs": [
        {
          "output_type": "stream",
          "name": "stdout",
          "text": [
            "['메로나', '폴로포', '빵빠레', '죠스바', '월드콘']\n"
          ]
        }
      ],
      "source": [
        "ice = {'메로나': 1000, '폴로포': 1200, '빵빠레': 1800, '죠스바': 1200, '월드콘': 1500}\n",
        "print(list(ice.keys()))"
      ]
    },
    {
      "cell_type": "code",
      "source": [],
      "metadata": {
        "id": "t9oWqp_09Nrf"
      },
      "execution_count": null,
      "outputs": []
    }
  ],
  "metadata": {
    "colab": {
      "provenance": [],
      "include_colab_link": true
    },
    "kernelspec": {
      "display_name": "Python 3",
      "name": "python3"
    },
    "language_info": {
      "name": "python"
    }
  },
  "nbformat": 4,
  "nbformat_minor": 0
}
{
  "cells": [
    {
      "cell_type": "markdown",
      "metadata": {
        "id": "view-in-github",
        "colab_type": "text"
      },
      "source": [
        "<a href=\"https://colab.research.google.com/github/zodongchan/zodongchan/blob/main/Chaper1416_task.ipynb\" target=\"_parent\"><img src=\"https://colab.research.google.com/assets/colab-badge.svg\" alt=\"Open In Colab\"/></a>"
      ]
    },
    {
      "cell_type": "markdown",
      "metadata": {
        "id": "BX7SgOeWu86I"
      },
      "source": [
        "안녕하세요. 수강생 여러분~! Chapter14 ~ 16 수업은 잘 들으셨나요?\n",
        "\n",
        "Chapter14 ~ 16의 수업 내용을 바탕으로 아래 문제를 풀어주시면 됩니다.\n",
        "\n",
        "<br>\n",
        "\n",
        "\n",
        "[**답변 입력 방법**]\n",
        "\n",
        "문제 아래에 있는 코드 입력창에 정답코드를 작성하신 후  __▷ 버튼을 클릭해 코드를 실행__ 해보세요<br>"
      ]
    },
    {
      "cell_type": "markdown",
      "metadata": {
        "id": "X08sPQRzlrmE"
      },
      "source": [
        "---"
      ]
    },
    {
      "cell_type": "markdown",
      "metadata": {
        "id": "7kQJMRuFu-6s"
      },
      "source": [
        "__[문제1]__\n",
        "\n",
        "주어진 정수 x와 자연수 n을 이용해, x부터 시작해 x씩 증가하는 숫자를 n개 지니는 리스트를 출력해주세요   \n",
        "<br>\n",
        "\n",
        "x = 2, n =5"
      ]
    },
    {
      "cell_type": "code",
      "source": [
        "from typing import List\n",
        "#주어진 정수 x와 자연수 n을 이용해,2부터 시작해 2씩 증가하는 숫자를 5개 지니는 리스트를 출력해주세요\n",
        "\n",
        "for i in range(2,11,2):\n",
        "    print(i)"
      ],
      "metadata": {
        "colab": {
          "base_uri": "https://localhost:8080/"
        },
        "id": "6-MdOSEc02Dp",
        "outputId": "f977cb86-0794-4e72-8e85-bccd4019c7f7"
      },
      "execution_count": null,
      "outputs": [
        {
          "output_type": "stream",
          "name": "stdout",
          "text": [
            "2\n",
            "4\n",
            "6\n",
            "8\n",
            "10\n"
          ]
        }
      ]
    },
    {
      "cell_type": "markdown",
      "metadata": {
        "id": "4BPXMLXUvBVL"
      },
      "source": [
        "__[문제2]__\n",
        "\n",
        "전화번호가 문자열 phone_number로 주어졌을 때, 전화번호의 뒷 4자리를 *으로 가린 문자열이 출력되도록 코드를 작성해주세요\n",
        "\n",
        "phone_number = \"01012347890\"  \n",
        "<br>\n",
        "\n",
        "출력 예) \"0101234****\""
      ]
    },
    {
      "cell_type": "code",
      "execution_count": null,
      "metadata": {
        "id": "P0fY7CYUvC_j",
        "colab": {
          "base_uri": "https://localhost:8080/",
          "height": 36
        },
        "outputId": "118261d4-9127-47c4-ee57-e6f3662dc5b0"
      },
      "outputs": [
        {
          "output_type": "execute_result",
          "data": {
            "text/plain": [
              "'0101234****'"
            ],
            "application/vnd.google.colaboratory.intrinsic+json": {
              "type": "string"
            }
          },
          "metadata": {},
          "execution_count": 79
        }
      ],
      "source": [
        "#전화번호 = \"01012347890\"\n",
        "\n",
        "스팸방지 = 전화번호[:-4]+'****'\n",
        "스팸방지"
      ]
    },
    {
      "cell_type": "markdown",
      "metadata": {
        "id": "9yWIx-I1lrmJ"
      },
      "source": [
        "---"
      ]
    },
    {
      "cell_type": "markdown",
      "metadata": {
        "id": "uUdOU9cFvDsq"
      },
      "source": [
        "__[문제3]__\n",
        "\n",
        "숫자를 건넬 때 일부 자릿수를 영단어로 바꾼 카드를 건네주면 프로도는 원래 숫자를 찾는 게임입니다.\n",
        "\n",
        "다음은 숫자의 일부 자릿수를 영단어로 바꾸는 예시입니다.\n",
        "\n",
        "1478 → \"one4seveneight\"  \n",
        "234567 → \"23four5six7\"  \n",
        "10203 → \"1zerotwozero3\"    \n",
        "\n",
        "이렇게 숫자의 일부 자릿수가 영단어로 바뀌어졌거나,   \n",
        "혹은 바뀌지 않고 그대로인 문자열 s가 주어졌을때\n",
        "s가 의미하는 원래 숫자를 출력하도록 코드를 작성해주세요\n",
        "\n",
        "s = \"77three4one\n",
        "\n",
        "---\n",
        "참고로 각 숫자에 대응되는 영단어는 다음 표와 같습니다.\n",
        "\n",
        "숫자\t영단어  \n",
        "0\tzero  \n",
        "1\tone  \n",
        "2\ttwo  \n",
        "3\tthree  \n",
        "4\tfour  \n",
        "5\tfive  \n",
        "6\tsix  \n",
        "7\tseven  \n",
        "8\teight  \n",
        "9\tnine  "
      ]
    },
    {
      "cell_type": "code",
      "execution_count": null,
      "metadata": {
        "id": "2NmqRFgDvFtz",
        "colab": {
          "base_uri": "https://localhost:8080/"
        },
        "outputId": "05130743-f142-486c-d6cd-3761dcb4a229"
      },
      "outputs": [
        {
          "output_type": "stream",
          "name": "stdout",
          "text": [
            "77341\n"
          ]
        }
      ],
      "source": [
        "#s=77341\n",
        "s = \"77three4one\"\n",
        "영숫자 = {\"zero\": \"0\", \"one\": \"1\", \"two\": \"2\", \"three\": \"3\", \"four\": \"4\", \"five\": \"5\", \"six\": \"6\", \"seven\": \"7\", \"eight\": \"8\", \"nine\": \"9\"}\n",
        "\n",
        "for key in 영숫자.keys():\n",
        "    s = s.replace(key, 영숫자[key])\n",
        "\n",
        "print(s)"
      ]
    },
    {
      "cell_type": "markdown",
      "metadata": {
        "id": "rxD9qFUqlrmK"
      },
      "source": [
        "---"
      ]
    },
    {
      "cell_type": "markdown",
      "metadata": {
        "id": "J0Tha6AdvGL3"
      },
      "source": [
        "__[문제4]__\n",
        "\n",
        "행렬의 덧셈은 행과 열의 크기가 같은 두 행렬의 같은 행, 같은 열의 값을 서로 더한 결과가 됩니다.\n",
        "\n",
        " 행렬 arr1과 arr2가 주어졌을 때, 행렬 덧셈의 결과를 출력하는 코드를 작성해주세요(result와 같은 결과가 출력되도록 작성)\n",
        "\n",
        "arr1 = [[1,2],[2,3]]\n",
        "\n",
        "arr2 = [[3,4],[5,6]]\n",
        "\n",
        "result = [[4,6],[7,9]]"
      ]
    },
    {
      "cell_type": "code",
      "execution_count": null,
      "metadata": {
        "id": "ujiXrEhJvIV0",
        "colab": {
          "base_uri": "https://localhost:8080/"
        },
        "outputId": "2a7ce748-0be7-45cf-9b0b-820757fa5a95"
      },
      "outputs": [
        {
          "output_type": "stream",
          "name": "stdout",
          "text": [
            "[[4, 6], [7, 9]]\n",
            "[[-2, -2], [-3, -3]]\n"
          ]
        }
      ],
      "source": [
        "arr1 = [[1,2],[2,3]]\n",
        "arr2 = [[3,4],[5,6]]\n",
        "\n",
        "result = [[0,0],[0,0]]\n",
        "\n",
        "for i in range(len(arr1)):\n",
        "    for j in range(len(arr1[0])):\n",
        "        result[i][j] = arr1[i][j] + arr2[i][j]\n",
        "print(result)\n",
        "\n",
        "for i in range(len(arr1)):\n",
        "    for j in range(len(arr1[0])):\n",
        "        result[i][j] = arr1[i][j] - arr2[i][j]\n",
        "print(result)"
      ]
    },
    {
      "cell_type": "markdown",
      "metadata": {
        "id": "Q6Z6ji3plrmK"
      },
      "source": [
        "---"
      ]
    },
    {
      "cell_type": "markdown",
      "metadata": {
        "id": "eLdrWVkavJEN"
      },
      "source": [
        "__[문제5]__\n",
        "\n",
        "양의 정수 x가 하샤드 수이려면 x의 자릿수의 합으로 x가 나누어져야 합니다.   \n",
        "예를 들어 18의 자릿수 합은 1+8=9이고, 18은 9로 나누어 떨어지므로 18은 하샤드 수입니다.   \n",
        "주어진 x를 이용해 x가 하샤드 수인지 아닌지 검사하는 코드를 작성해주세요\n",
        "\n",
        "x = 17\n",
        "\n",
        "----\n",
        "\n",
        "입출력 예시\n",
        "x\t결과값  \n",
        "10\ttrue  \n",
        "12\ttrue  \n",
        "11\tfalse  \n",
        "13\tfalse  "
      ]
    },
    {
      "cell_type": "code",
      "execution_count": null,
      "metadata": {
        "id": "EULD-IOrvKmG",
        "colab": {
          "base_uri": "https://localhost:8080/"
        },
        "outputId": "56c6df47-5b04-4eb3-fd5e-8771f5f70e82"
      },
      "outputs": [
        {
          "output_type": "stream",
          "name": "stdout",
          "text": [
            "False\n"
          ]
        }
      ],
      "source": [
        "#하샤드 수 = n%2 = 0 = true 아닐시 false\n",
        "\n",
        "x = 17\n",
        "\n",
        "sum_x = sum(map(int, str(x)))\n",
        "print(x % sum_x == 0)\n",
        "\n"
      ]
    },
    {
      "cell_type": "markdown",
      "metadata": {
        "id": "OKjNvJz-lrmL"
      },
      "source": [
        "---"
      ]
    },
    {
      "cell_type": "markdown",
      "metadata": {
        "id": "GeS6hZhivLMZ"
      },
      "source": [
        "__[문제6]__\n",
        "\n",
        "String형 배열 seoul의 element중 \"Kim\"의 인덱스 x를 찾아, \"김서방은 x에 있다\"는 String을 출력하는 코드를 작성해주세요.   \n",
        "\n",
        "seoul에 \"Kim\"은 오직 한 번만 나타나며 잘못된 값이 입력되는 경우는 없습니다.\n",
        "\n",
        "seoul = [\"Jane\", \"Kim\"]\n",
        "\n",
        "<br>\n",
        "출력 예) \"김서방은 1에 있다\""
      ]
    },
    {
      "cell_type": "code",
      "execution_count": null,
      "metadata": {
        "id": "e4LXat3BvRRg",
        "colab": {
          "base_uri": "https://localhost:8080/"
        },
        "outputId": "9d7772be-1b48-4bd0-c7ef-3f5a0da6ec88"
      },
      "outputs": [
        {
          "output_type": "stream",
          "name": "stdout",
          "text": [
            "김서방은 1에 있다\n"
          ]
        }
      ],
      "source": [
        "서울 = [\"제인\", \"킴\"]\n",
        "\n",
        "seoul = [\"Jane\", \"Kim\"]\n",
        "print(f\"김서방은 {seoul.index('Kim')}에 있다\")"
      ]
    },
    {
      "cell_type": "markdown",
      "metadata": {
        "id": "_VqQrxPwlrmL"
      },
      "source": [
        "---"
      ]
    },
    {
      "cell_type": "markdown",
      "metadata": {
        "id": "iZjKl-ZqvOkm"
      },
      "source": [
        "__[문제7]__\n",
        "\n",
        "0부터 9까지의 숫자 중 일부가 들어있는 정수 배열 numbers가 주어집니다.   \n",
        "numbers에서 찾을 수 없는 0부터 9까지의 숫자를 모두 찾아 더한 수를 출력해주세요\n",
        "\n",
        "numbers = [5,8,1,0,6,9]"
      ]
    },
    {
      "cell_type": "code",
      "execution_count": null,
      "metadata": {
        "id": "598DAkIHvQav",
        "colab": {
          "base_uri": "https://localhost:8080/"
        },
        "outputId": "e4321f99-7799-4dbc-9861-765d098ac487"
      },
      "outputs": [
        {
          "output_type": "stream",
          "name": "stdout",
          "text": [
            "16\n"
          ]
        }
      ],
      "source": [
        "#2+3+4+7=16\n",
        "numbers = [5,8,1,0,6,9]\n",
        "\n",
        "miss_sum = 0\n",
        "for i in range(10):\n",
        "    if i not in numbers:\n",
        "        miss_sum += i\n",
        "\n",
        "print(miss_sum)"
      ]
    }
  ],
  "metadata": {
    "colab": {
      "provenance": [],
      "include_colab_link": true
    },
    "kernelspec": {
      "display_name": "Python 3",
      "name": "python3"
    },
    "language_info": {
      "codemirror_mode": {
        "name": "ipython",
        "version": 3
      },
      "file_extension": ".py",
      "mimetype": "text/x-python",
      "name": "python",
      "nbconvert_exporter": "python",
      "pygments_lexer": "ipython3",
      "version": "3.11.7"
    }
  },
  "nbformat": 4,
  "nbformat_minor": 0
}